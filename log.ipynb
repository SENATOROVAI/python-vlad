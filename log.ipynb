{
 "cells": [
  {
   "cell_type": "code",
   "execution_count": null,
   "metadata": {},
   "outputs": [],
   "source": [
    "дата 05.11.23\n",
    "1) изучили пул реквест\n",
    "2)узнал что такое гитхаб \n",
    "3)узнал что такое share\n",
    "4)узнал что такое репозиторий\n",
    "5)узнал что такое star,fork\n",
    "6)узнал что такое линтер\n",
    "7)узнал что такое flake8\n",
    "8)узнал что такое black"
   ]
  }
 ],
 "metadata": {
  "language_info": {
   "name": "python"
  }
 },
 "nbformat": 4,
 "nbformat_minor": 2
}
